{
  "nbformat": 4,
  "nbformat_minor": 0,
  "metadata": {
    "colab": {
      "provenance": [],
      "authorship_tag": "ABX9TyOaLnuhx1PrFsVonnUEU9zJ",
      "include_colab_link": true
    },
    "kernelspec": {
      "name": "python3",
      "display_name": "Python 3"
    },
    "language_info": {
      "name": "python"
    }
  },
  "cells": [
    {
      "cell_type": "markdown",
      "metadata": {
        "id": "view-in-github",
        "colab_type": "text"
      },
      "source": [
        "<a href=\"https://colab.research.google.com/github/leonardocosttaa/hello-world/blob/main/Desenvolver_um_n%C3%BAmero_para_cada_andar_de_um_hotel_de_20_andares.ipynb\" target=\"_parent\"><img src=\"https://colab.research.google.com/assets/colab-badge.svg\" alt=\"Open In Colab\"/></a>"
      ]
    },
    {
      "cell_type": "markdown",
      "source": [
        "Precisamos imprimir um número para cada andar de um hotel de 20 andares. Porém, o dono do hotel é supersticioso e optou por não ter um 13ro andar.\n",
        "\n",
        "Escreva um código que imprima todos os números exceto o número 13.\n",
        "Escreva mais dois códigos que resolvam o mesmo problema, mas dessa vez usando os outros dois tipos de laços de repetição aprendidos.\n",
        "\n",
        "Como desafio, imprima eles em ordem decrescente (20, 19, 18...)"
      ],
      "metadata": {
        "id": "ahJ1kg9uWbsF"
      }
    },
    {
      "cell_type": "code",
      "source": [
        "for i in range(20, 0, -1):\n",
        "    if i != 13:\n",
        "        print(i)\n",
        "\n",
        "\n",
        "\n",
        "i = 20\n",
        "while i >= 1:\n",
        "    if i != 13:\n",
        "        print(i)\n",
        "    i -= 1\n",
        "\n",
        "\n",
        "\n",
        "i = 20\n",
        "while True:\n",
        "    if i != 13:\n",
        "        print(i)\n",
        "    i -= 1\n",
        "    if i < 1:\n",
        "        break"
      ],
      "metadata": {
        "colab": {
          "base_uri": "https://localhost:8080/"
        },
        "id": "23_MpEUPZD4u",
        "outputId": "94c0008c-d123-4848-f741-3ce1e611762c"
      },
      "execution_count": 31,
      "outputs": [
        {
          "output_type": "stream",
          "name": "stdout",
          "text": [
            "20\n",
            "19\n",
            "18\n",
            "17\n",
            "16\n",
            "15\n",
            "14\n",
            "12\n",
            "11\n",
            "10\n",
            "9\n",
            "8\n",
            "7\n",
            "6\n",
            "5\n",
            "4\n",
            "3\n",
            "2\n",
            "1\n",
            "20\n",
            "19\n",
            "18\n",
            "17\n",
            "16\n",
            "15\n",
            "14\n",
            "12\n",
            "11\n",
            "10\n",
            "9\n",
            "8\n",
            "7\n",
            "6\n",
            "5\n",
            "4\n",
            "3\n",
            "2\n",
            "1\n",
            "20\n",
            "19\n",
            "18\n",
            "17\n",
            "16\n",
            "15\n",
            "14\n",
            "12\n",
            "11\n",
            "10\n",
            "9\n",
            "8\n",
            "7\n",
            "6\n",
            "5\n",
            "4\n",
            "3\n",
            "2\n",
            "1\n"
          ]
        }
      ]
    }
  ]
}